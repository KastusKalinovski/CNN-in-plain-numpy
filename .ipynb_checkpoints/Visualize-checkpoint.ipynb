{
 "cells": [
  {
   "cell_type": "code",
   "execution_count": 1,
   "metadata": {
    "ExecuteTime": {
     "end_time": "2021-01-29T10:51:24.703807Z",
     "start_time": "2021-01-29T10:51:24.456280Z"
    }
   },
   "outputs": [],
   "source": [
    "from utils import *\n",
    "from metrics import *\n",
    "from layers import *\n",
    "from model import *\n",
    "from optimizers import *\n",
    "from initializers import *\n",
    "import matplotlib.pyplot as plt\n",
    "import numpy as np\n",
    "%matplotlib inline"
   ]
  },
  {
   "cell_type": "code",
   "execution_count": 2,
   "metadata": {
    "ExecuteTime": {
     "end_time": "2021-01-29T10:51:25.032864Z",
     "start_time": "2021-01-29T10:51:24.899220Z"
    }
   },
   "outputs": [
    {
     "name": "stderr",
     "output_type": "stream",
     "text": [
      "Clipping input data to the valid range for imshow with RGB data ([0..1] for floats or [0..255] for integers).\n"
     ]
    },
    {
     "data": {
      "text/plain": [
       "<matplotlib.image.AxesImage at 0x1ed979dd948>"
      ]
     },
     "execution_count": 2,
     "metadata": {},
     "output_type": "execute_result"
    },
    {
     "data": {
      "image/png": "[encoded data removed]",
      "text/plain": [
       "<Figure size 432x288 with 1 Axes>"
      ]
     },
     "metadata": {
      "needs_background": "light"
     },
     "output_type": "display_data"
    }
   ],
   "source": [
    "img = xavier_init(1,5,(3,3,3))\n",
    "plt.imshow(img,cmap='RdYlBu_r')"
   ]
  },
  {
   "cell_type": "code",
   "execution_count": 3,
   "metadata": {
    "ExecuteTime": {
     "end_time": "2021-01-29T10:51:25.144083Z",
     "start_time": "2021-01-29T10:51:25.033835Z"
    }
   },
   "outputs": [
    {
     "data": {
      "text/plain": [
       "<matplotlib.image.AxesImage at 0x1ed97a9a948>"
      ]
     },
     "execution_count": 3,
     "metadata": {},
     "output_type": "execute_result"
    },
    {
     "data": {
      "image/png": "[encoded data removed]",
      "text/plain": [
       "<Figure size 432x288 with 1 Axes>"
      ]
     },
     "metadata": {
      "needs_background": "light"
     },
     "output_type": "display_data"
    }
   ],
   "source": [
    "plt.imshow(img[0])"
   ]
  },
  {
   "cell_type": "code",
   "execution_count": 4,
   "metadata": {
    "ExecuteTime": {
     "end_time": "2021-01-29T10:51:25.159229Z",
     "start_time": "2021-01-29T10:51:25.145265Z"
    }
   },
   "outputs": [],
   "source": [
    "def zero_pad(batch,n):\n",
    "    '''Pad image with n zeros'''\n",
    "    return np.pad(batch,((0,0),(n,n),(n,n),(0,0)))"
   ]
  },
  {
   "cell_type": "code",
   "execution_count": 5,
   "metadata": {
    "ExecuteTime": {
     "end_time": "2021-01-29T10:51:25.206881Z",
     "start_time": "2021-01-29T10:51:25.160244Z"
    }
   },
   "outputs": [
    {
     "ename": "NameError",
     "evalue": "name 'padded' is not defined",
     "output_type": "error",
     "traceback": [
      "\u001b[1;31m---------------------------------------------------------------------------\u001b[0m",
      "\u001b[1;31mNameError\u001b[0m                                 Traceback (most recent call last)",
      "\u001b[1;32m<ipython-input-5-cd744278d305>\u001b[0m in \u001b[0;36m<module>\u001b[1;34m\u001b[0m\n\u001b[1;32m----> 1\u001b[1;33m \u001b[0mplt\u001b[0m\u001b[1;33m.\u001b[0m\u001b[0mimshow\u001b[0m\u001b[1;33m(\u001b[0m\u001b[0mpadded\u001b[0m\u001b[1;33m[\u001b[0m\u001b[1;36m0\u001b[0m\u001b[1;33m]\u001b[0m\u001b[1;33m)\u001b[0m\u001b[1;33m\u001b[0m\u001b[1;33m\u001b[0m\u001b[0m\n\u001b[0m",
      "\u001b[1;31mNameError\u001b[0m: name 'padded' is not defined"
     ]
    }
   ],
   "source": [
    "plt.imshow(padded[0])"
   ]
  },
  {
   "cell_type": "code",
   "execution_count": null,
   "metadata": {
    "ExecuteTime": {
     "end_time": "2021-01-29T10:51:25.207938Z",
     "start_time": "2021-01-29T10:51:24.991Z"
    }
   },
   "outputs": [],
   "source": [
    "batch = np.random.randint(0,10,(1,4,4,3))\n",
    "plt.imshow(batch[0,:,:,1])"
   ]
  },
  {
   "cell_type": "code",
   "execution_count": null,
   "metadata": {
    "ExecuteTime": {
     "end_time": "2021-01-29T10:51:25.208903Z",
     "start_time": "2021-01-29T10:51:25.015Z"
    }
   },
   "outputs": [],
   "source": [
    "batch[0,:,:,1]"
   ]
  },
  {
   "cell_type": "code",
   "execution_count": null,
   "metadata": {
    "ExecuteTime": {
     "end_time": "2021-01-29T10:51:25.209875Z",
     "start_time": "2021-01-29T10:51:25.040Z"
    }
   },
   "outputs": [],
   "source": [
    "maxpool = MaxPooL2d(2)\n",
    "output =  maxpool.forward(batch)\n",
    "plt.imshow(output[0,:,:,1])"
   ]
  },
  {
   "cell_type": "code",
   "execution_count": null,
   "metadata": {
    "ExecuteTime": {
     "end_time": "2021-01-29T10:51:25.209875Z",
     "start_time": "2021-01-29T10:51:25.067Z"
    }
   },
   "outputs": [],
   "source": [
    "output[0,:,:,1]"
   ]
  },
  {
   "cell_type": "code",
   "execution_count": null,
   "metadata": {
    "ExecuteTime": {
     "end_time": "2021-01-29T10:51:25.210873Z",
     "start_time": "2021-01-29T10:51:25.088Z"
    }
   },
   "outputs": [],
   "source": [
    "np.random.randn(30, 10).T.shape"
   ]
  },
  {
   "cell_type": "code",
   "execution_count": 6,
   "metadata": {
    "ExecuteTime": {
     "end_time": "2021-01-29T10:51:25.771782Z",
     "start_time": "2021-01-29T10:51:25.753632Z"
    }
   },
   "outputs": [
    {
     "data": {
      "text/plain": [
       "array([[[[6, 8, 4],\n",
       "         [1, 9, 8],\n",
       "         [1, 4, 1],\n",
       "         [7, 7, 2]],\n",
       "\n",
       "        [[5, 9, 2],\n",
       "         [2, 4, 1],\n",
       "         [2, 9, 8],\n",
       "         [8, 0, 1]],\n",
       "\n",
       "        [[7, 3, 7],\n",
       "         [4, 9, 2],\n",
       "         [7, 7, 4],\n",
       "         [6, 3, 7]],\n",
       "\n",
       "        [[9, 4, 5],\n",
       "         [0, 5, 4],\n",
       "         [1, 5, 0],\n",
       "         [2, 5, 2]]]])"
      ]
     },
     "execution_count": 6,
     "metadata": {},
     "output_type": "execute_result"
    }
   ],
   "source": [
    "batch = np.random.randint(0,10,(1,4,4,3))\n",
    "batch"
   ]
  },
  {
   "cell_type": "code",
   "execution_count": 7,
   "metadata": {
    "ExecuteTime": {
     "end_time": "2021-01-29T10:51:25.977375Z",
     "start_time": "2021-01-29T10:51:25.959347Z"
    }
   },
   "outputs": [
    {
     "data": {
      "text/plain": [
       "array([[6, 8, 4, 1, 9, 8, 1, 4, 1, 7, 7, 2, 5, 9, 2, 2, 4, 1, 2, 9, 8, 8,\n",
       "        0, 1, 7, 3, 7, 4, 9, 2, 7, 7, 4, 6, 3, 7, 9, 4, 5, 0, 5, 4, 1, 5,\n",
       "        0, 2, 5, 2]])"
      ]
     },
     "execution_count": 7,
     "metadata": {},
     "output_type": "execute_result"
    }
   ],
   "source": [
    "batch = batch.reshape(batch.shape[0],-1)\n",
    "batch"
   ]
  },
  {
   "cell_type": "code",
   "execution_count": 8,
   "metadata": {
    "ExecuteTime": {
     "end_time": "2021-01-29T10:51:26.120571Z",
     "start_time": "2021-01-29T10:51:26.101737Z"
    }
   },
   "outputs": [
    {
     "data": {
      "text/plain": [
       "array([[8.82901860e-14, 1.06491754e-07, 3.14997252e-10, 6.38614252e-10,\n",
       "        9.99991435e-01, 4.63818458e-06, 2.61888603e-09, 1.00399412e-08,\n",
       "        3.75602114e-06, 5.08979761e-08]])"
      ]
     },
     "execution_count": 8,
     "metadata": {},
     "output_type": "execute_result"
    }
   ],
   "source": [
    "dense = Dense(10,batch.shape[1])\n",
    "dense.forward(batch)"
   ]
  },
  {
   "cell_type": "code",
   "execution_count": 9,
   "metadata": {
    "ExecuteTime": {
     "end_time": "2021-01-29T10:51:26.377443Z",
     "start_time": "2021-01-29T10:51:26.361747Z"
    }
   },
   "outputs": [
    {
     "data": {
      "text/plain": [
       "array([[2, 3, 8, 9, 5],\n",
       "       [9, 2, 8, 4, 2],\n",
       "       [3, 6, 8, 7, 6],\n",
       "       [8, 9, 7, 1, 8],\n",
       "       [3, 2, 6, 5, 9]])"
      ]
     },
     "execution_count": 9,
     "metadata": {},
     "output_type": "execute_result"
    }
   ],
   "source": [
    "vect = np.random.randint(1,10,(5,5))\n",
    "vect"
   ]
  },
  {
   "cell_type": "code",
   "execution_count": 10,
   "metadata": {
    "ExecuteTime": {
     "end_time": "2021-01-29T10:51:26.545325Z",
     "start_time": "2021-01-29T10:51:26.536188Z"
    }
   },
   "outputs": [],
   "source": [
    "sm = softmax(vect)"
   ]
  },
  {
   "cell_type": "code",
   "execution_count": 11,
   "metadata": {
    "ExecuteTime": {
     "end_time": "2021-01-29T10:51:26.703702Z",
     "start_time": "2021-01-29T10:51:26.682774Z"
    }
   },
   "outputs": [
    {
     "data": {
      "text/plain": [
       "array([3, 0, 2, 1, 4], dtype=int64)"
      ]
     },
     "execution_count": 11,
     "metadata": {},
     "output_type": "execute_result"
    }
   ],
   "source": [
    "max_pos = sm.argmax(axis=1)\n",
    "max_pos"
   ]
  },
  {
   "cell_type": "code",
   "execution_count": 23,
   "metadata": {
    "ExecuteTime": {
     "end_time": "2021-01-29T10:52:29.892076Z",
     "start_time": "2021-01-29T10:52:29.875459Z"
    }
   },
   "outputs": [],
   "source": [
    "y_true = np.array([[0,1,0,0,0],[0,1,0,0,0],[0,0,1,0,0],[0,1,0,0,0],[0,0,0,0,1]])"
   ]
  },
  {
   "cell_type": "code",
   "execution_count": 24,
   "metadata": {
    "ExecuteTime": {
     "end_time": "2021-01-29T10:52:30.348888Z",
     "start_time": "2021-01-29T10:52:30.336920Z"
    }
   },
   "outputs": [
    {
     "data": {
      "text/plain": [
       "(0.6, 4.64280382876209)"
      ]
     },
     "execution_count": 24,
     "metadata": {},
     "output_type": "execute_result"
    }
   ],
   "source": [
    "accuracy(y_true,sm), categorical_cross_entropy(y_true,sm)"
   ]
  },
  {
   "cell_type": "code",
   "execution_count": null,
   "metadata": {},
   "outputs": [],
   "source": []
  },
  {
   "cell_type": "code",
   "execution_count": null,
   "metadata": {},
   "outputs": [],
   "source": []
  }
 ],
 "metadata": {
  "kernelspec": {
   "display_name": "Python 3",
   "language": "python",
   "name": "python3"
  },
  "language_info": {
   "codemirror_mode": {
    "name": "ipython",
    "version": 3
   },
   "file_extension": ".py",
   "mimetype": "text/x-python",
   "name": "python",
   "nbconvert_exporter": "python",
   "pygments_lexer": "ipython3",
   "version": "3.7.6"
  }
 },
 "nbformat": 4,
 "nbformat_minor": 4
}
