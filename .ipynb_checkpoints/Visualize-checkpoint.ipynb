{
 "cells": [
  {
   "cell_type": "code",
   "execution_count": 270,
   "metadata": {
    "ExecuteTime": {
     "end_time": "2021-02-03T13:18:24.468574Z",
     "start_time": "2021-02-03T13:18:24.451872Z"
    }
   },
   "outputs": [],
   "source": [
    "from utils import *\n",
    "from metrics import *\n",
    "from layers import *\n",
    "from model import *\n",
    "from optimizers import *\n",
    "from initializers import *\n",
    "import matplotlib.pyplot as plt\n",
    "import numpy as np\n",
    "%matplotlib inline"
   ]
  },
  {
   "cell_type": "code",
   "execution_count": 271,
   "metadata": {
    "ExecuteTime": {
     "end_time": "2021-02-03T13:18:25.384685Z",
     "start_time": "2021-02-03T13:18:25.168006Z"
    }
   },
   "outputs": [
    {
     "name": "stderr",
     "output_type": "stream",
     "text": [
      "Clipping input data to the valid range for imshow with RGB data ([0..1] for floats or [0..255] for integers).\n"
     ]
    },
    {
     "data": {
      "text/plain": [
       "<matplotlib.image.AxesImage at 0x22fe762dd08>"
      ]
     },
     "execution_count": 271,
     "metadata": {},
     "output_type": "execute_result"
    },
    {
     "data": {
      "image/png": "[encoded data removed]",
      "text/plain": [
       "<Figure size 432x288 with 1 Axes>"
      ]
     },
     "metadata": {
      "needs_background": "light"
     },
     "output_type": "display_data"
    }
   ],
   "source": [
    "img = xavier_init(1,5,(3,3,3))\n",
    "plt.imshow(img,cmap='RdYlBu_r')"
   ]
  },
  {
   "cell_type": "code",
   "execution_count": 272,
   "metadata": {
    "ExecuteTime": {
     "end_time": "2021-02-03T13:18:25.637144Z",
     "start_time": "2021-02-03T13:18:25.437685Z"
    }
   },
   "outputs": [
    {
     "data": {
      "text/plain": [
       "<matplotlib.image.AxesImage at 0x22fe7966108>"
      ]
     },
     "execution_count": 272,
     "metadata": {},
     "output_type": "execute_result"
    },
    {
     "data": {
      "image/png": "[encoded data removed]",
      "text/plain": [
       "<Figure size 432x288 with 1 Axes>"
      ]
     },
     "metadata": {
      "needs_background": "light"
     },
     "output_type": "display_data"
    }
   ],
   "source": [
    "plt.imshow(img[0])"
   ]
  },
  {
   "cell_type": "code",
   "execution_count": 273,
   "metadata": {
    "ExecuteTime": {
     "end_time": "2021-02-03T13:18:25.652730Z",
     "start_time": "2021-02-03T13:18:25.638173Z"
    }
   },
   "outputs": [],
   "source": [
    "def zero_pad(batch,n):\n",
    "    '''Pad image with n zeros'''\n",
    "    return np.pad(batch,((0,0),(n,n),(n,n),(0,0)))"
   ]
  },
  {
   "cell_type": "code",
   "execution_count": 274,
   "metadata": {
    "ExecuteTime": {
     "end_time": "2021-02-03T13:18:26.087960Z",
     "start_time": "2021-02-03T13:18:26.069045Z"
    }
   },
   "outputs": [
    {
     "ename": "NameError",
     "evalue": "name 'padded' is not defined",
     "output_type": "error",
     "traceback": [
      "\u001b[1;31m---------------------------------------------------------------------------\u001b[0m",
      "\u001b[1;31mNameError\u001b[0m                                 Traceback (most recent call last)",
      "\u001b[1;32m<ipython-input-274-cd744278d305>\u001b[0m in \u001b[0;36m<module>\u001b[1;34m\u001b[0m\n\u001b[1;32m----> 1\u001b[1;33m \u001b[0mplt\u001b[0m\u001b[1;33m.\u001b[0m\u001b[0mimshow\u001b[0m\u001b[1;33m(\u001b[0m\u001b[0mpadded\u001b[0m\u001b[1;33m[\u001b[0m\u001b[1;36m0\u001b[0m\u001b[1;33m]\u001b[0m\u001b[1;33m)\u001b[0m\u001b[1;33m\u001b[0m\u001b[1;33m\u001b[0m\u001b[0m\n\u001b[0m",
      "\u001b[1;31mNameError\u001b[0m: name 'padded' is not defined"
     ]
    }
   ],
   "source": [
    "plt.imshow(padded[0])"
   ]
  },
  {
   "cell_type": "code",
   "execution_count": 275,
   "metadata": {
    "ExecuteTime": {
     "end_time": "2021-02-03T13:18:26.698537Z",
     "start_time": "2021-02-03T13:18:26.496172Z"
    }
   },
   "outputs": [
    {
     "data": {
      "text/plain": [
       "<matplotlib.image.AxesImage at 0x22fe7b5e848>"
      ]
     },
     "execution_count": 275,
     "metadata": {},
     "output_type": "execute_result"
    },
    {
     "data": {
      "image/png": "[encoded data removed]",
      "text/plain": [
       "<Figure size 432x288 with 1 Axes>"
      ]
     },
     "metadata": {
      "needs_background": "light"
     },
     "output_type": "display_data"
    }
   ],
   "source": [
    "batch = np.random.randint(0,10,(1,4,4,3))\n",
    "plt.imshow(batch[0,:,:,1])"
   ]
  },
  {
   "cell_type": "code",
   "execution_count": 276,
   "metadata": {
    "ExecuteTime": {
     "end_time": "2021-02-03T13:18:26.713778Z",
     "start_time": "2021-02-03T13:18:26.700044Z"
    }
   },
   "outputs": [
    {
     "data": {
      "text/plain": [
       "array([[9, 8, 4, 2],\n",
       "       [1, 4, 2, 7],\n",
       "       [9, 7, 0, 2],\n",
       "       [3, 6, 1, 8]])"
      ]
     },
     "execution_count": 276,
     "metadata": {},
     "output_type": "execute_result"
    }
   ],
   "source": [
    "batch[0,:,:,1]"
   ]
  },
  {
   "cell_type": "code",
   "execution_count": 277,
   "metadata": {
    "ExecuteTime": {
     "end_time": "2021-02-03T13:18:26.950868Z",
     "start_time": "2021-02-03T13:18:26.716002Z"
    }
   },
   "outputs": [
    {
     "data": {
      "text/plain": [
       "<matplotlib.image.AxesImage at 0x22fe7e2b508>"
      ]
     },
     "execution_count": 277,
     "metadata": {},
     "output_type": "execute_result"
    },
    {
     "data": {
      "image/png": "[encoded data removed]",
      "text/plain": [
       "<Figure size 432x288 with 1 Axes>"
      ]
     },
     "metadata": {
      "needs_background": "light"
     },
     "output_type": "display_data"
    }
   ],
   "source": [
    "maxpool = MaxPooL2d(2)\n",
    "output =  maxpool.forward(batch)\n",
    "plt.imshow(output[0,:,:,1])"
   ]
  },
  {
   "cell_type": "code",
   "execution_count": 278,
   "metadata": {
    "ExecuteTime": {
     "end_time": "2021-02-03T13:18:26.966276Z",
     "start_time": "2021-02-03T13:18:26.953817Z"
    }
   },
   "outputs": [
    {
     "data": {
      "text/plain": [
       "array([[9., 7.],\n",
       "       [9., 8.]])"
      ]
     },
     "execution_count": 278,
     "metadata": {},
     "output_type": "execute_result"
    }
   ],
   "source": [
    "output[0,:,:,1]"
   ]
  },
  {
   "cell_type": "code",
   "execution_count": 279,
   "metadata": {
    "ExecuteTime": {
     "end_time": "2021-02-03T13:18:26.997307Z",
     "start_time": "2021-02-03T13:18:26.968270Z"
    }
   },
   "outputs": [
    {
     "data": {
      "text/plain": [
       "(10, 30)"
      ]
     },
     "execution_count": 279,
     "metadata": {},
     "output_type": "execute_result"
    }
   ],
   "source": [
    "np.random.randn(30, 10).T.shape"
   ]
  },
  {
   "cell_type": "code",
   "execution_count": 280,
   "metadata": {
    "ExecuteTime": {
     "end_time": "2021-02-03T13:18:27.028333Z",
     "start_time": "2021-02-03T13:18:27.000332Z"
    }
   },
   "outputs": [
    {
     "data": {
      "text/plain": [
       "array([[[[5, 6, 6],\n",
       "         [9, 6, 0],\n",
       "         [5, 7, 6],\n",
       "         [2, 2, 9]],\n",
       "\n",
       "        [[0, 1, 0],\n",
       "         [5, 5, 2],\n",
       "         [2, 2, 7],\n",
       "         [5, 7, 3]],\n",
       "\n",
       "        [[0, 9, 3],\n",
       "         [1, 3, 2],\n",
       "         [8, 7, 1],\n",
       "         [8, 5, 8]],\n",
       "\n",
       "        [[0, 8, 6],\n",
       "         [6, 2, 6],\n",
       "         [5, 9, 5],\n",
       "         [7, 5, 3]]]])"
      ]
     },
     "execution_count": 280,
     "metadata": {},
     "output_type": "execute_result"
    }
   ],
   "source": [
    "batch = np.random.randint(0,10,(1,4,4,3))\n",
    "batch"
   ]
  },
  {
   "cell_type": "code",
   "execution_count": 281,
   "metadata": {
    "ExecuteTime": {
     "end_time": "2021-02-03T13:18:27.043559Z",
     "start_time": "2021-02-03T13:18:27.031217Z"
    }
   },
   "outputs": [
    {
     "data": {
      "text/plain": [
       "array([[5, 6, 6, 9, 6, 0, 5, 7, 6, 2, 2, 9, 0, 1, 0, 5, 5, 2, 2, 2, 7, 5,\n",
       "        7, 3, 0, 9, 3, 1, 3, 2, 8, 7, 1, 8, 5, 8, 0, 8, 6, 6, 2, 6, 5, 9,\n",
       "        5, 7, 5, 3]])"
      ]
     },
     "execution_count": 281,
     "metadata": {},
     "output_type": "execute_result"
    }
   ],
   "source": [
    "batch = batch.reshape(batch.shape[0],-1)\n",
    "batch"
   ]
  },
  {
   "cell_type": "code",
   "execution_count": 282,
   "metadata": {
    "ExecuteTime": {
     "end_time": "2021-02-03T13:18:27.074577Z",
     "start_time": "2021-02-03T13:18:27.048174Z"
    }
   },
   "outputs": [
    {
     "ename": "AttributeError",
     "evalue": "can't set attribute",
     "output_type": "error",
     "traceback": [
      "\u001b[1;31m---------------------------------------------------------------------------\u001b[0m",
      "\u001b[1;31mAttributeError\u001b[0m                            Traceback (most recent call last)",
      "\u001b[1;32m<ipython-input-282-da6cc3353728>\u001b[0m in \u001b[0;36m<module>\u001b[1;34m\u001b[0m\n\u001b[1;32m----> 1\u001b[1;33m \u001b[0mdense\u001b[0m \u001b[1;33m=\u001b[0m \u001b[0mDense\u001b[0m\u001b[1;33m(\u001b[0m\u001b[1;36m10\u001b[0m\u001b[1;33m,\u001b[0m\u001b[0mbatch\u001b[0m\u001b[1;33m.\u001b[0m\u001b[0mshape\u001b[0m\u001b[1;33m[\u001b[0m\u001b[1;36m1\u001b[0m\u001b[1;33m]\u001b[0m\u001b[1;33m)\u001b[0m\u001b[1;33m\u001b[0m\u001b[1;33m\u001b[0m\u001b[0m\n\u001b[0m\u001b[0;32m      2\u001b[0m \u001b[0mdense\u001b[0m\u001b[1;33m.\u001b[0m\u001b[0mforward\u001b[0m\u001b[1;33m(\u001b[0m\u001b[0mbatch\u001b[0m\u001b[1;33m)\u001b[0m\u001b[1;33m\u001b[0m\u001b[1;33m\u001b[0m\u001b[0m\n",
      "\u001b[1;32mC:\\Learning\\My\\lang\\python\\Machine_Learning\\MySamples\\CNN-From-Scratch\\layers.py\u001b[0m in \u001b[0;36m__init__\u001b[1;34m(self, n_output, n_input, activation, use_bias)\u001b[0m\n\u001b[0;32m    129\u001b[0m \u001b[1;33m\u001b[0m\u001b[0m\n\u001b[0;32m    130\u001b[0m         \u001b[0mself\u001b[0m\u001b[1;33m.\u001b[0m\u001b[0mparams\u001b[0m \u001b[1;33m=\u001b[0m \u001b[1;33m[\u001b[0m\u001b[0mself\u001b[0m\u001b[1;33m.\u001b[0m\u001b[0mW\u001b[0m\u001b[1;33m,\u001b[0m\u001b[0mself\u001b[0m\u001b[1;33m.\u001b[0m\u001b[0mb\u001b[0m\u001b[1;33m]\u001b[0m\u001b[1;33m\u001b[0m\u001b[1;33m\u001b[0m\u001b[0m\n\u001b[1;32m--> 131\u001b[1;33m \u001b[1;33m\u001b[0m\u001b[0m\n\u001b[0m\u001b[0;32m    132\u001b[0m \u001b[1;33m\u001b[0m\u001b[0m\n\u001b[0;32m    133\u001b[0m \u001b[1;33m\u001b[0m\u001b[0m\n",
      "\u001b[1;31mAttributeError\u001b[0m: can't set attribute"
     ]
    }
   ],
   "source": [
    "dense = Dense(10,batch.shape[1])\n",
    "dense.forward(batch)"
   ]
  },
  {
   "cell_type": "code",
   "execution_count": 285,
   "metadata": {
    "ExecuteTime": {
     "end_time": "2021-02-03T13:18:55.469992Z",
     "start_time": "2021-02-03T13:18:55.454548Z"
    }
   },
   "outputs": [
    {
     "data": {
      "text/plain": [
       "array([[9, 9, 1, 5, 5],\n",
       "       [8, 8, 4, 7, 3],\n",
       "       [1, 7, 6, 8, 1],\n",
       "       [2, 8, 6, 8, 8],\n",
       "       [4, 6, 5, 9, 2]])"
      ]
     },
     "execution_count": 285,
     "metadata": {},
     "output_type": "execute_result"
    }
   ],
   "source": [
    "vect = np.random.randint(1,10,(5,5))\n",
    "vect"
   ]
  },
  {
   "cell_type": "code",
   "execution_count": 286,
   "metadata": {
    "ExecuteTime": {
     "end_time": "2021-02-03T13:18:55.826109Z",
     "start_time": "2021-02-03T13:18:55.808063Z"
    }
   },
   "outputs": [],
   "source": [
    "probs = np.array(softmax(vect) for vect in batch_x)"
   ]
  },
  {
   "cell_type": "code",
   "execution_count": 287,
   "metadata": {
    "ExecuteTime": {
     "end_time": "2021-02-03T13:18:56.152747Z",
     "start_time": "2021-02-03T13:18:56.143190Z"
    }
   },
   "outputs": [
    {
     "data": {
      "text/plain": [
       "array([0, 0, 3, 1, 3], dtype=int64)"
      ]
     },
     "execution_count": 287,
     "metadata": {},
     "output_type": "execute_result"
    }
   ],
   "source": [
    "max_pos = sm.argmax(axis=1)\n",
    "max_pos"
   ]
  },
  {
   "cell_type": "code",
   "execution_count": 295,
   "metadata": {
    "ExecuteTime": {
     "end_time": "2021-02-03T13:19:46.025559Z",
     "start_time": "2021-02-03T13:19:46.017115Z"
    }
   },
   "outputs": [],
   "source": [
    "y_true = np.array([[1,0,0,0,0],[1,0,0,0,0],[0,0,0,1,0],[0,1,0,0,0],[0,0,0,1,0]])"
   ]
  },
  {
   "cell_type": "code",
   "execution_count": 297,
   "metadata": {
    "ExecuteTime": {
     "end_time": "2021-02-03T13:20:01.616399Z",
     "start_time": "2021-02-03T13:20:01.607781Z"
    }
   },
   "outputs": [
    {
     "data": {
      "text/plain": [
       "0.35729738658059707"
      ]
     },
     "execution_count": 297,
     "metadata": {},
     "output_type": "execute_result"
    }
   ],
   "source": [
    "sm[0].sum()"
   ]
  },
  {
   "cell_type": "code",
   "execution_count": 294,
   "metadata": {
    "ExecuteTime": {
     "end_time": "2021-02-03T13:19:41.052768Z",
     "start_time": "2021-02-03T13:19:41.046782Z"
    }
   },
   "outputs": [
    {
     "data": {
      "text/plain": [
       "(0.8, 3.9406486377126733)"
      ]
     },
     "execution_count": 294,
     "metadata": {},
     "output_type": "execute_result"
    }
   ],
   "source": [
    "accuracy(y_true,sm), categorical_cross_entropy(y_true,sm)"
   ]
  },
  {
   "cell_type": "code",
   "execution_count": null,
   "metadata": {},
   "outputs": [],
   "source": []
  },
  {
   "cell_type": "code",
   "execution_count": null,
   "metadata": {},
   "outputs": [],
   "source": []
  }
 ],
 "metadata": {
  "kernelspec": {
   "display_name": "Python 3",
   "language": "python",
   "name": "python3"
  },
  "language_info": {
   "codemirror_mode": {
    "name": "ipython",
    "version": 3
   },
   "file_extension": ".py",
   "mimetype": "text/x-python",
   "name": "python",
   "nbconvert_exporter": "python",
   "pygments_lexer": "ipython3",
   "version": "3.7.6"
  }
 },
 "nbformat": 4,
 "nbformat_minor": 4
}
