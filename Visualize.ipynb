{
 "cells": [
  {
   "cell_type": "code",
   "execution_count": 5,
   "metadata": {
    "ExecuteTime": {
     "end_time": "2021-02-02T10:11:37.978940Z",
     "start_time": "2021-02-02T10:11:37.524838Z"
    }
   },
   "outputs": [],
   "source": [
    "from utils import *\n",
    "from metrics import *\n",
    "from layers import *\n",
    "from model import *\n",
    "from optimizers import *\n",
    "from initializers import *\n",
    "import matplotlib.pyplot as plt\n",
    "import numpy as np\n",
    "%matplotlib inline"
   ]
  },
  {
   "cell_type": "code",
   "execution_count": 6,
   "metadata": {
    "ExecuteTime": {
     "end_time": "2021-02-02T10:11:38.340335Z",
     "start_time": "2021-02-02T10:11:38.161368Z"
    }
   },
   "outputs": [
    {
     "name": "stderr",
     "output_type": "stream",
     "text": [
      "Clipping input data to the valid range for imshow with RGB data ([0..1] for floats or [0..255] for integers).\n"
     ]
    },
    {
     "data": {
      "text/plain": [
       "<matplotlib.image.AxesImage at 0x22fe624efc8>"
      ]
     },
     "execution_count": 6,
     "metadata": {},
     "output_type": "execute_result"
    },
    {
     "data": {
      "image/png": "[encoded data removed]",
      "text/plain": [
       "<Figure size 432x288 with 1 Axes>"
      ]
     },
     "metadata": {
      "needs_background": "light"
     },
     "output_type": "display_data"
    }
   ],
   "source": [
    "img = xavier_init(1,5,(3,3,3))\n",
    "plt.imshow(img,cmap='RdYlBu_r')"
   ]
  },
  {
   "cell_type": "code",
   "execution_count": 7,
   "metadata": {
    "ExecuteTime": {
     "end_time": "2021-02-02T10:11:38.900917Z",
     "start_time": "2021-02-02T10:11:38.801164Z"
    }
   },
   "outputs": [
    {
     "data": {
      "text/plain": [
       "<matplotlib.image.AxesImage at 0x22fe62d02c8>"
      ]
     },
     "execution_count": 7,
     "metadata": {},
     "output_type": "execute_result"
    },
    {
     "data": {
      "image/png": "[encoded data removed]",
      "text/plain": [
       "<Figure size 432x288 with 1 Axes>"
      ]
     },
     "metadata": {
      "needs_background": "light"
     },
     "output_type": "display_data"
    }
   ],
   "source": [
    "plt.imshow(img[0])"
   ]
  },
  {
   "cell_type": "code",
   "execution_count": 8,
   "metadata": {
    "ExecuteTime": {
     "end_time": "2021-02-02T10:11:38.947679Z",
     "start_time": "2021-02-02T10:11:38.934745Z"
    }
   },
   "outputs": [],
   "source": [
    "def zero_pad(batch,n):\n",
    "    '''Pad image with n zeros'''\n",
    "    return np.pad(batch,((0,0),(n,n),(n,n),(0,0)))"
   ]
  },
  {
   "cell_type": "code",
   "execution_count": 9,
   "metadata": {
    "ExecuteTime": {
     "end_time": "2021-02-02T10:11:39.102986Z",
     "start_time": "2021-02-02T10:11:39.091045Z"
    }
   },
   "outputs": [
    {
     "ename": "NameError",
     "evalue": "name 'padded' is not defined",
     "output_type": "error",
     "traceback": [
      "\u001b[1;31m---------------------------------------------------------------------------\u001b[0m",
      "\u001b[1;31mNameError\u001b[0m                                 Traceback (most recent call last)",
      "\u001b[1;32m<ipython-input-9-cd744278d305>\u001b[0m in \u001b[0;36m<module>\u001b[1;34m\u001b[0m\n\u001b[1;32m----> 1\u001b[1;33m \u001b[0mplt\u001b[0m\u001b[1;33m.\u001b[0m\u001b[0mimshow\u001b[0m\u001b[1;33m(\u001b[0m\u001b[0mpadded\u001b[0m\u001b[1;33m[\u001b[0m\u001b[1;36m0\u001b[0m\u001b[1;33m]\u001b[0m\u001b[1;33m)\u001b[0m\u001b[1;33m\u001b[0m\u001b[1;33m\u001b[0m\u001b[0m\n\u001b[0m",
      "\u001b[1;31mNameError\u001b[0m: name 'padded' is not defined"
     ]
    }
   ],
   "source": [
    "plt.imshow(padded[0])"
   ]
  },
  {
   "cell_type": "code",
   "execution_count": 10,
   "metadata": {
    "ExecuteTime": {
     "end_time": "2021-02-02T10:11:39.305720Z",
     "start_time": "2021-02-02T10:11:39.202469Z"
    }
   },
   "outputs": [
    {
     "data": {
      "text/plain": [
       "<matplotlib.image.AxesImage at 0x22fe634c6c8>"
      ]
     },
     "execution_count": 10,
     "metadata": {},
     "output_type": "execute_result"
    },
    {
     "data": {
      "image/png": "[encoded data removed]",
      "text/plain": [
       "<Figure size 432x288 with 1 Axes>"
      ]
     },
     "metadata": {
      "needs_background": "light"
     },
     "output_type": "display_data"
    }
   ],
   "source": [
    "batch = np.random.randint(0,10,(1,4,4,3))\n",
    "plt.imshow(batch[0,:,:,1])"
   ]
  },
  {
   "cell_type": "code",
   "execution_count": 11,
   "metadata": {
    "ExecuteTime": {
     "end_time": "2021-02-02T10:11:39.462381Z",
     "start_time": "2021-02-02T10:11:39.450383Z"
    }
   },
   "outputs": [
    {
     "data": {
      "text/plain": [
       "array([[7, 6, 5, 6],\n",
       "       [1, 7, 1, 4],\n",
       "       [2, 6, 8, 0],\n",
       "       [3, 0, 4, 7]])"
      ]
     },
     "execution_count": 11,
     "metadata": {},
     "output_type": "execute_result"
    }
   ],
   "source": [
    "batch[0,:,:,1]"
   ]
  },
  {
   "cell_type": "code",
   "execution_count": 12,
   "metadata": {
    "ExecuteTime": {
     "end_time": "2021-02-02T10:11:39.981878Z",
     "start_time": "2021-02-02T10:11:39.873713Z"
    }
   },
   "outputs": [
    {
     "data": {
      "text/plain": [
       "<matplotlib.image.AxesImage at 0x22fe63b8088>"
      ]
     },
     "execution_count": 12,
     "metadata": {},
     "output_type": "execute_result"
    },
    {
     "data": {
      "image/png": "[encoded data removed]",
      "text/plain": [
       "<Figure size 432x288 with 1 Axes>"
      ]
     },
     "metadata": {
      "needs_background": "light"
     },
     "output_type": "display_data"
    }
   ],
   "source": [
    "maxpool = MaxPooL2d(2)\n",
    "output =  maxpool.forward(batch)\n",
    "plt.imshow(output[0,:,:,1])"
   ]
  },
  {
   "cell_type": "code",
   "execution_count": 13,
   "metadata": {
    "ExecuteTime": {
     "end_time": "2021-02-02T10:11:40.044684Z",
     "start_time": "2021-02-02T10:11:40.040666Z"
    }
   },
   "outputs": [
    {
     "data": {
      "text/plain": [
       "array([[7., 6.],\n",
       "       [6., 8.]])"
      ]
     },
     "execution_count": 13,
     "metadata": {},
     "output_type": "execute_result"
    }
   ],
   "source": [
    "output[0,:,:,1]"
   ]
  },
  {
   "cell_type": "code",
   "execution_count": 14,
   "metadata": {
    "ExecuteTime": {
     "end_time": "2021-02-02T10:11:40.357927Z",
     "start_time": "2021-02-02T10:11:40.350946Z"
    }
   },
   "outputs": [
    {
     "data": {
      "text/plain": [
       "(10, 30)"
      ]
     },
     "execution_count": 14,
     "metadata": {},
     "output_type": "execute_result"
    }
   ],
   "source": [
    "np.random.randn(30, 10).T.shape"
   ]
  },
  {
   "cell_type": "code",
   "execution_count": 15,
   "metadata": {
    "ExecuteTime": {
     "end_time": "2021-02-02T10:11:40.513689Z",
     "start_time": "2021-02-02T10:11:40.507705Z"
    }
   },
   "outputs": [
    {
     "data": {
      "text/plain": [
       "array([[[[5, 3, 3],\n",
       "         [5, 8, 2],\n",
       "         [0, 4, 7],\n",
       "         [0, 4, 4]],\n",
       "\n",
       "        [[4, 9, 7],\n",
       "         [1, 3, 6],\n",
       "         [7, 6, 3],\n",
       "         [4, 0, 8]],\n",
       "\n",
       "        [[3, 7, 1],\n",
       "         [7, 7, 1],\n",
       "         [8, 2, 9],\n",
       "         [0, 5, 7]],\n",
       "\n",
       "        [[1, 3, 8],\n",
       "         [6, 3, 6],\n",
       "         [6, 5, 6],\n",
       "         [3, 8, 9]]]])"
      ]
     },
     "execution_count": 15,
     "metadata": {},
     "output_type": "execute_result"
    }
   ],
   "source": [
    "batch = np.random.randint(0,10,(1,4,4,3))\n",
    "batch"
   ]
  },
  {
   "cell_type": "code",
   "execution_count": 16,
   "metadata": {
    "ExecuteTime": {
     "end_time": "2021-02-02T10:11:40.779971Z",
     "start_time": "2021-02-02T10:11:40.766014Z"
    }
   },
   "outputs": [
    {
     "data": {
      "text/plain": [
       "array([[5, 3, 3, 5, 8, 2, 0, 4, 7, 0, 4, 4, 4, 9, 7, 1, 3, 6, 7, 6, 3, 4,\n",
       "        0, 8, 3, 7, 1, 7, 7, 1, 8, 2, 9, 0, 5, 7, 1, 3, 8, 6, 3, 6, 6, 5,\n",
       "        6, 3, 8, 9]])"
      ]
     },
     "execution_count": 16,
     "metadata": {},
     "output_type": "execute_result"
    }
   ],
   "source": [
    "batch = batch.reshape(batch.shape[0],-1)\n",
    "batch"
   ]
  },
  {
   "cell_type": "code",
   "execution_count": 17,
   "metadata": {
    "ExecuteTime": {
     "end_time": "2021-02-02T10:11:41.154344Z",
     "start_time": "2021-02-02T10:11:41.137391Z"
    }
   },
   "outputs": [
    {
     "ename": "AttributeError",
     "evalue": "can't set attribute",
     "output_type": "error",
     "traceback": [
      "\u001b[1;31m---------------------------------------------------------------------------\u001b[0m",
      "\u001b[1;31mAttributeError\u001b[0m                            Traceback (most recent call last)",
      "\u001b[1;32m<ipython-input-17-da6cc3353728>\u001b[0m in \u001b[0;36m<module>\u001b[1;34m\u001b[0m\n\u001b[1;32m----> 1\u001b[1;33m \u001b[0mdense\u001b[0m \u001b[1;33m=\u001b[0m \u001b[0mDense\u001b[0m\u001b[1;33m(\u001b[0m\u001b[1;36m10\u001b[0m\u001b[1;33m,\u001b[0m\u001b[0mbatch\u001b[0m\u001b[1;33m.\u001b[0m\u001b[0mshape\u001b[0m\u001b[1;33m[\u001b[0m\u001b[1;36m1\u001b[0m\u001b[1;33m]\u001b[0m\u001b[1;33m)\u001b[0m\u001b[1;33m\u001b[0m\u001b[1;33m\u001b[0m\u001b[0m\n\u001b[0m\u001b[0;32m      2\u001b[0m \u001b[0mdense\u001b[0m\u001b[1;33m.\u001b[0m\u001b[0mforward\u001b[0m\u001b[1;33m(\u001b[0m\u001b[0mbatch\u001b[0m\u001b[1;33m)\u001b[0m\u001b[1;33m\u001b[0m\u001b[1;33m\u001b[0m\u001b[0m\n",
      "\u001b[1;32mC:\\Learning\\My\\lang\\python\\Machine_Learning\\MySamples\\CNN-From-Scratch\\layers.py\u001b[0m in \u001b[0;36m__init__\u001b[1;34m(self, n_output, n_input, activation, use_bias)\u001b[0m\n\u001b[0;32m    129\u001b[0m         \u001b[0mself\u001b[0m\u001b[1;33m.\u001b[0m\u001b[0mactivation\u001b[0m \u001b[1;33m=\u001b[0m \u001b[0mactivation\u001b[0m\u001b[1;33m\u001b[0m\u001b[1;33m\u001b[0m\u001b[0m\n\u001b[0;32m    130\u001b[0m         \u001b[0mself\u001b[0m\u001b[1;33m.\u001b[0m\u001b[0muse_bias\u001b[0m \u001b[1;33m=\u001b[0m \u001b[0muse_bias\u001b[0m\u001b[1;33m\u001b[0m\u001b[1;33m\u001b[0m\u001b[0m\n\u001b[1;32m--> 131\u001b[1;33m         \u001b[0mself\u001b[0m\u001b[1;33m.\u001b[0m\u001b[0mweights\u001b[0m \u001b[1;33m=\u001b[0m \u001b[0mxavier_init\u001b[0m\u001b[1;33m(\u001b[0m\u001b[0mn_input\u001b[0m\u001b[1;33m,\u001b[0m\u001b[0mn_output\u001b[0m\u001b[1;33m,\u001b[0m\u001b[1;33m(\u001b[0m\u001b[0mn_input\u001b[0m\u001b[1;33m,\u001b[0m\u001b[0mn_output\u001b[0m\u001b[1;33m)\u001b[0m\u001b[1;33m)\u001b[0m\u001b[1;33m\u001b[0m\u001b[1;33m\u001b[0m\u001b[0m\n\u001b[0m\u001b[0;32m    132\u001b[0m         \u001b[0mself\u001b[0m\u001b[1;33m.\u001b[0m\u001b[0mb\u001b[0m \u001b[1;33m=\u001b[0m \u001b[0mnp\u001b[0m\u001b[1;33m.\u001b[0m\u001b[0mzeros\u001b[0m\u001b[1;33m(\u001b[0m\u001b[1;33m(\u001b[0m\u001b[1;36m1\u001b[0m\u001b[1;33m,\u001b[0m\u001b[0mn_output\u001b[0m\u001b[1;33m)\u001b[0m\u001b[1;33m)\u001b[0m\u001b[1;33m\u001b[0m\u001b[1;33m\u001b[0m\u001b[0m\n\u001b[0;32m    133\u001b[0m \u001b[1;33m\u001b[0m\u001b[0m\n",
      "\u001b[1;31mAttributeError\u001b[0m: can't set attribute"
     ]
    }
   ],
   "source": [
    "dense = Dense(10,batch.shape[1])\n",
    "dense.forward(batch)"
   ]
  },
  {
   "cell_type": "code",
   "execution_count": 18,
   "metadata": {
    "ExecuteTime": {
     "end_time": "2021-02-02T10:11:41.454688Z",
     "start_time": "2021-02-02T10:11:41.448704Z"
    }
   },
   "outputs": [
    {
     "data": {
      "text/plain": [
       "array([[2, 3, 3, 4, 3],\n",
       "       [9, 7, 3, 8, 9],\n",
       "       [2, 7, 6, 5, 7],\n",
       "       [5, 2, 7, 8, 8],\n",
       "       [5, 6, 3, 9, 5]])"
      ]
     },
     "execution_count": 18,
     "metadata": {},
     "output_type": "execute_result"
    }
   ],
   "source": [
    "vect = np.random.randint(1,10,(5,5))\n",
    "vect"
   ]
  },
  {
   "cell_type": "code",
   "execution_count": 19,
   "metadata": {
    "ExecuteTime": {
     "end_time": "2021-02-02T10:11:41.940330Z",
     "start_time": "2021-02-02T10:11:41.935880Z"
    }
   },
   "outputs": [],
   "source": [
    "sm = softmax(vect)"
   ]
  },
  {
   "cell_type": "code",
   "execution_count": 20,
   "metadata": {
    "ExecuteTime": {
     "end_time": "2021-02-02T10:11:42.434676Z",
     "start_time": "2021-02-02T10:11:42.404058Z"
    }
   },
   "outputs": [
    {
     "data": {
      "text/plain": [
       "array([3, 0, 1, 3, 3], dtype=int64)"
      ]
     },
     "execution_count": 20,
     "metadata": {},
     "output_type": "execute_result"
    }
   ],
   "source": [
    "max_pos = sm.argmax(axis=1)\n",
    "max_pos"
   ]
  },
  {
   "cell_type": "code",
   "execution_count": 29,
   "metadata": {
    "ExecuteTime": {
     "end_time": "2021-02-02T10:13:38.381669Z",
     "start_time": "2021-02-02T10:13:38.364411Z"
    }
   },
   "outputs": [],
   "source": [
    "y_true = np.array([[0,0,0,1,0],[1,0,0,0,0],[0,1,0,0,0],[0,0,0,1,0],[0,0,0,1,0]])"
   ]
  },
  {
   "cell_type": "code",
   "execution_count": 31,
   "metadata": {
    "ExecuteTime": {
     "end_time": "2021-02-02T10:13:39.211073Z",
     "start_time": "2021-02-02T10:13:39.200102Z"
    }
   },
   "outputs": [
    {
     "data": {
      "text/plain": [
       "(1.0, 3.176849326551239)"
      ]
     },
     "execution_count": 31,
     "metadata": {},
     "output_type": "execute_result"
    }
   ],
   "source": [
    "accuracy(y_true,sm), categorical_cross_entropy(y_true,sm)"
   ]
  },
  {
   "cell_type": "code",
   "execution_count": null,
   "metadata": {},
   "outputs": [],
   "source": []
  },
  {
   "cell_type": "code",
   "execution_count": null,
   "metadata": {},
   "outputs": [],
   "source": []
  }
 ],
 "metadata": {
  "kernelspec": {
   "display_name": "Python 3",
   "language": "python",
   "name": "python3"
  },
  "language_info": {
   "codemirror_mode": {
    "name": "ipython",
    "version": 3
   },
   "file_extension": ".py",
   "mimetype": "text/x-python",
   "name": "python",
   "nbconvert_exporter": "python",
   "pygments_lexer": "ipython3",
   "version": "3.7.6"
  }
 },
 "nbformat": 4,
 "nbformat_minor": 4
}
